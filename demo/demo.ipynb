{
 "cells": [
  {
   "cell_type": "code",
   "execution_count": 1,
   "metadata": {
    "ExecuteTime": {
     "end_time": "2017-11-28T15:30:30.629203Z",
     "start_time": "2017-11-28T15:30:21.733082Z"
    },
    "collapsed": false
   },
   "outputs": [
    {
     "name": "stdout",
     "output_type": "stream",
     "text": [
      "Query for existing PIDs using GPU : nvidia-smi --query-compute-apps=pid --format=csv,noheader\n",
      " --->  []\n",
      "TensorFlow Devices: /cpu:0\n",
      "TensorFlow Devices: /gpu:0\n",
      "\n",
      "\n"
     ]
    }
   ],
   "source": [
    "import sys\n",
    "sys.path.insert(0, '../')\n",
    "\n",
    "import src.preprocess as preprocess\n",
    "import src.utils as utils\n",
    "\n",
    "if utils.check_gpu(verbose=0):\n",
    "    import src.pokeGAN as pokeGAN\n",
    "else:\n",
    "    sys.exit(1)"
   ]
  },
  {
   "cell_type": "markdown",
   "metadata": {},
   "source": [
    "# PREPROCESSING\n",
    "1. Resize all images\n",
    "2. Convert them to B/W"
   ]
  },
  {
   "cell_type": "code",
   "execution_count": 2,
   "metadata": {
    "ExecuteTime": {
     "end_time": "2017-11-28T15:30:41.753591Z",
     "start_time": "2017-11-28T15:30:30.630428Z"
    },
    "collapsed": false
   },
   "outputs": [
    {
     "name": "stdout",
     "output_type": "stream",
     "text": [
      "[PREPROCESS] Data Dir: /home/strider/Downloads/Research/Compressive Sensing/Others Code Repos/pokeGAN/demo/../data\n",
      "[PREPROCESS] Src Images: /home/strider/Downloads/Research/Compressive Sensing/Others Code Repos/pokeGAN/demo/../data/data\n",
      "[PREPROCESS] Dest Resized Images : /home/strider/Downloads/Research/Compressive Sensing/Others Code Repos/pokeGAN/demo/../data/data_resized\n",
      "\n",
      "\n",
      "[PREPROCESS] Dest Resized & B/W Images : /home/strider/Downloads/Research/Compressive Sensing/Others Code Repos/pokeGAN/demo/../data/data_resized_black\n"
     ]
    }
   ],
   "source": [
    "# preprocess.prepareData(cwd = '~/Downloads/Research/Compressive Sensing/Others Code Repos/pokeGAN', data_dir='data')\n",
    "processed_data_dir = preprocess.prepareData()"
   ]
  },
  {
   "cell_type": "markdown",
   "metadata": {},
   "source": [
    "# TRAINING THE NETWORK"
   ]
  },
  {
   "cell_type": "code",
   "execution_count": null,
   "metadata": {
    "ExecuteTime": {
     "start_time": "2017-11-28T10:01:12.688Z"
    },
    "collapsed": false
   },
   "outputs": [
    {
     "name": "stdout",
     "output_type": "stream",
     "text": [
      " ------- TRAINING -------\n",
      "Total training sample num : 352\n",
      "Batch Size: 64, Batch num per epoch: 5, Epoch num: 5000\n",
      "\n",
      "Start training ...\n",
      "[Train] : Iter - [0], D_loss : -112.194786, G_loss : 72.345314, Time Elapsed: 86.410000 s\n"
     ]
    }
   ],
   "source": [
    "pokeGAN.train(processed_data_dir)"
   ]
  }
 ],
 "metadata": {
  "anaconda-cloud": {},
  "kernelspec": {
   "display_name": "Python [conda root]",
   "language": "python",
   "name": "conda-root-py"
  },
  "language_info": {
   "codemirror_mode": {
    "name": "ipython",
    "version": 3
   },
   "file_extension": ".py",
   "mimetype": "text/x-python",
   "name": "python",
   "nbconvert_exporter": "python",
   "pygments_lexer": "ipython3",
   "version": "3.5.2"
  },
  "varInspector": {
   "cols": {
    "lenName": 16,
    "lenType": 16,
    "lenVar": 40
   },
   "kernels_config": {
    "python": {
     "delete_cmd_postfix": "",
     "delete_cmd_prefix": "del ",
     "library": "var_list.py",
     "varRefreshCmd": "print(var_dic_list())"
    },
    "r": {
     "delete_cmd_postfix": ") ",
     "delete_cmd_prefix": "rm(",
     "library": "var_list.r",
     "varRefreshCmd": "cat(var_dic_list()) "
    }
   },
   "types_to_exclude": [
    "module",
    "function",
    "builtin_function_or_method",
    "instance",
    "_Feature"
   ],
   "window_display": false
  },
  "widgets": {
   "state": {
    "1f5aacc8a2994c86b5818d3d899e59a5": {
     "views": [
      {
       "cell_index": 2
      }
     ]
    },
    "a751bfbefe2542cb9d6708518810fffe": {
     "views": [
      {
       "cell_index": 4
      }
     ]
    },
    "cfacb5eabba6439b94b6265bc3edd5dc": {
     "views": [
      {
       "cell_index": 2
      }
     ]
    },
    "eb305856f21748379eb6edf051716bbc": {
     "views": [
      {
       "cell_index": 2
      }
     ]
    }
   },
   "version": "1.2.0"
  }
 },
 "nbformat": 4,
 "nbformat_minor": 1
}
