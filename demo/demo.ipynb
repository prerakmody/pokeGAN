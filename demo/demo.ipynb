{
 "cells": [
  {
   "cell_type": "code",
   "execution_count": 1,
   "metadata": {
    "ExecuteTime": {
     "end_time": "2017-11-28T13:04:31.769820Z",
     "start_time": "2017-11-28T13:04:22.476091Z"
    },
    "collapsed": false
   },
   "outputs": [
    {
     "name": "stdout",
     "output_type": "stream",
     "text": [
      "Query for existing PIDs using GPU : nvidia-smi --query-compute-apps=pid --format=csv,noheader\n",
      " --->  []\n",
      "TensorFlow Devices: /cpu:0\n",
      "TensorFlow Devices: /gpu:0\n",
      "\n",
      "\n"
     ]
    }
   ],
   "source": [
    "import sys\n",
    "sys.path.insert(0, '../')\n",
    "\n",
    "import src.preprocess as preprocess\n",
    "import src.utils as utils\n",
    "\n",
    "if utils.check_gpu(verbose=0):\n",
    "    import src.pokeGAN as pokeGAN\n",
    "else:\n",
    "    sys.exit(1)"
   ]
  },
  {
   "cell_type": "markdown",
   "metadata": {},
   "source": [
    "# PREPROCESSING\n",
    "1. Resize all images\n",
    "2. Convert them to B/W"
   ]
  },
  {
   "cell_type": "code",
   "execution_count": 2,
   "metadata": {
    "ExecuteTime": {
     "end_time": "2017-11-28T13:04:31.774322Z",
     "start_time": "2017-11-28T13:04:31.771109Z"
    },
    "collapsed": false
   },
   "outputs": [],
   "source": [
    "# preprocess.prepareData()"
   ]
  },
  {
   "cell_type": "markdown",
   "metadata": {},
   "source": [
    "# TRAINING THE NETWORK"
   ]
  },
  {
   "cell_type": "code",
   "execution_count": 3,
   "metadata": {
    "ExecuteTime": {
     "end_time": "2017-11-28T14:18:19.299102Z",
     "start_time": "2017-11-28T13:04:31.776774Z"
    },
    "collapsed": false
   },
   "outputs": [
    {
     "name": "stdout",
     "output_type": "stream",
     "text": [
      " ------- TRAINING -------\n",
      "Total training sample num : 352\n",
      "Batch Size: 64, Batch num per epoch: 5, Epoch num: 5000\n",
      "INFO:tensorflow:Restoring parameters from ./model/newPokemon/0\n",
      "\n",
      "Start training ...\n",
      "[Train] : Iter - [0], D_loss : -218.088211, G_loss : 123.113235, Time Elapsed: 85.370000 s\n",
      "[Train] : Iter - [1], D_loss : -288.466614, G_loss : 154.241852, Time Elapsed: 78.320000 s\n",
      "[Train] : Iter - [2], D_loss : -329.750092, G_loss : 173.877411, Time Elapsed: 78.710000 s\n",
      "[Train] : Iter - [3], D_loss : -347.557220, G_loss : 184.210617, Time Elapsed: 78.590000 s\n",
      "[Train] : Iter - [4], D_loss : -358.954590, G_loss : 185.992310, Time Elapsed: 78.580000 s\n",
      "[Train] : Iter - [5], D_loss : -267.070129, G_loss : 179.857681, Time Elapsed: 78.740000 s\n",
      "[Train] : Iter - [6], D_loss : -268.496918, G_loss : 177.881516, Time Elapsed: 78.660000 s\n",
      "[Train] : Iter - [7], D_loss : -266.733337, G_loss : 163.707855, Time Elapsed: 78.750000 s\n",
      "[Train] : Iter - [8], D_loss : -331.340759, G_loss : 179.462921, Time Elapsed: 78.570000 s\n",
      "[Train] : Iter - [9], D_loss : -292.912292, G_loss : 181.229950, Time Elapsed: 79.130000 s\n",
      "[Train] : Iter - [10], D_loss : -354.721039, G_loss : 188.923065, Time Elapsed: 80.070000 s\n",
      "[Train] : Iter - [11], D_loss : -366.997742, G_loss : 192.519897, Time Elapsed: 78.740000 s\n",
      "[Train] : Iter - [12], D_loss : -349.830475, G_loss : 187.589417, Time Elapsed: 78.630000 s\n",
      "[Train] : Iter - [13], D_loss : -359.217834, G_loss : 188.820190, Time Elapsed: 78.570000 s\n",
      "[Train] : Iter - [14], D_loss : -351.768219, G_loss : 172.387177, Time Elapsed: 78.710000 s\n",
      "[Train] : Iter - [15], D_loss : -372.826141, G_loss : 190.096832, Time Elapsed: 78.550000 s\n",
      "[Train] : Iter - [16], D_loss : -374.287933, G_loss : 191.730286, Time Elapsed: 78.570000 s\n",
      "[Train] : Iter - [17], D_loss : -374.674927, G_loss : 192.585327, Time Elapsed: 78.650000 s\n",
      "[Train] : Iter - [18], D_loss : -369.106903, G_loss : 190.157227, Time Elapsed: 78.760000 s\n",
      "[Train] : Iter - [19], D_loss : -366.518677, G_loss : 190.939514, Time Elapsed: 78.580000 s\n",
      "[Train] : Iter - [20], D_loss : -350.718323, G_loss : 187.857239, Time Elapsed: 79.310000 s\n",
      "[Train] : Iter - [21], D_loss : -353.475830, G_loss : 190.400299, Time Elapsed: 78.180000 s\n",
      "[Train] : Iter - [22], D_loss : -279.536377, G_loss : 177.087326, Time Elapsed: 78.420000 s\n",
      "[Train] : Iter - [23], D_loss : -337.495178, G_loss : 183.930130, Time Elapsed: 78.420000 s\n",
      "[Train] : Iter - [24], D_loss : -361.433502, G_loss : 187.638336, Time Elapsed: 78.360000 s\n",
      "[Train] : Iter - [25], D_loss : -369.999634, G_loss : 191.475616, Time Elapsed: 78.350000 s\n",
      "[Train] : Iter - [26], D_loss : -370.558167, G_loss : 192.267822, Time Elapsed: 78.510000 s\n",
      "[Train] : Iter - [27], D_loss : -343.062744, G_loss : 180.923141, Time Elapsed: 78.450000 s\n",
      "[Train] : Iter - [28], D_loss : -361.653870, G_loss : 188.622284, Time Elapsed: 78.320000 s\n",
      "[Train] : Iter - [29], D_loss : -351.421661, G_loss : 185.556824, Time Elapsed: 78.440000 s\n",
      "[Train] : Iter - [30], D_loss : -361.600922, G_loss : 185.330261, Time Elapsed: 79.390000 s\n",
      "[Train] : Iter - [31], D_loss : -366.855225, G_loss : 187.022949, Time Elapsed: 78.560000 s\n",
      "[Train] : Iter - [32], D_loss : -355.412720, G_loss : 185.492477, Time Elapsed: 78.850000 s\n",
      "[Train] : Iter - [33], D_loss : -361.252411, G_loss : 182.999634, Time Elapsed: 78.790000 s\n",
      "[Train] : Iter - [34], D_loss : -357.186005, G_loss : 185.334595, Time Elapsed: 79.090000 s\n",
      "[Train] : Iter - [35], D_loss : -358.948669, G_loss : 188.347458, Time Elapsed: 78.800000 s\n",
      "[Train] : Iter - [36], D_loss : -366.089996, G_loss : 190.939011, Time Elapsed: 78.710000 s\n",
      "[Train] : Iter - [37], D_loss : -370.490326, G_loss : 192.319366, Time Elapsed: 78.320000 s\n",
      "[Train] : Iter - [38], D_loss : -365.956482, G_loss : 187.419113, Time Elapsed: 78.570000 s\n",
      "[Train] : Iter - [39], D_loss : -363.872742, G_loss : 189.477982, Time Elapsed: 78.670000 s\n",
      "[Train] : Iter - [40], D_loss : -354.002136, G_loss : 187.352722, Time Elapsed: 79.450000 s\n",
      "[Train] : Iter - [41], D_loss : -350.468719, G_loss : 187.028549, Time Elapsed: 78.240000 s\n",
      "[Train] : Iter - [42], D_loss : -371.536530, G_loss : 190.972504, Time Elapsed: 78.690000 s\n",
      "[Train] : Iter - [43], D_loss : -368.142883, G_loss : 185.666489, Time Elapsed: 78.640000 s\n",
      "[Train] : Iter - [44], D_loss : -259.687164, G_loss : 182.873077, Time Elapsed: 78.390000 s\n",
      "[Train] : Iter - [45], D_loss : -374.636078, G_loss : 190.891479, Time Elapsed: 78.390000 s\n",
      "[Train] : Iter - [46], D_loss : -365.488708, G_loss : 185.794159, Time Elapsed: 78.490000 s\n",
      "[Train] : Iter - [47], D_loss : -374.256958, G_loss : 191.317856, Time Elapsed: 78.570000 s\n",
      "[Train] : Iter - [48], D_loss : -373.392273, G_loss : 189.732117, Time Elapsed: 78.540000 s\n",
      "[Train] : Iter - [49], D_loss : -370.930969, G_loss : 189.817291, Time Elapsed: 78.520000 s\n",
      "[Train] : Iter - [50], D_loss : -341.914246, G_loss : 186.846771, Time Elapsed: 79.830000 s\n",
      "[Train] : Iter - [51], D_loss : -370.259674, G_loss : 190.759552, Time Elapsed: 78.170000 s\n",
      "[Train] : Iter - [52], D_loss : -372.190613, G_loss : 192.235413, Time Elapsed: 78.650000 s\n",
      "[Train] : Iter - [53], D_loss : -367.315948, G_loss : 190.751755, Time Elapsed: 78.650000 s\n",
      "[Train] : Iter - [54], D_loss : -360.449310, G_loss : 179.568298, Time Elapsed: 78.510000 s\n",
      "[Train] : Iter - [55], D_loss : -364.118683, G_loss : 186.098511, Time Elapsed: 78.600000 s\n"
     ]
    },
    {
     "ename": "KeyboardInterrupt",
     "evalue": "",
     "output_type": "error",
     "traceback": [
      "\u001b[0;31m---------------------------------------------------------------------------\u001b[0m",
      "\u001b[0;31mKeyboardInterrupt\u001b[0m                         Traceback (most recent call last)",
      "\u001b[0;32m<ipython-input-3-3d7dd99eff39>\u001b[0m in \u001b[0;36m<module>\u001b[0;34m()\u001b[0m\n\u001b[0;32m----> 1\u001b[0;31m \u001b[0mpokeGAN\u001b[0m\u001b[0;34m.\u001b[0m\u001b[0mtrain\u001b[0m\u001b[0;34m(\u001b[0m\u001b[0;34m)\u001b[0m\u001b[0;34m\u001b[0m\u001b[0m\n\u001b[0m",
      "\u001b[0;32m/home/strider/Downloads/Research/Compressive Sensing/Others Code Repos/pokeGAN/src/pokeGAN.py\u001b[0m in \u001b[0;36mtrain\u001b[0;34m(EPOCH, BATCH_SIZE, GAN_TYPE, RANDOM_DIM, DIS_ITERS, GEN_ITERS, ITERS_NET_LOSS, ITERS_NET_CHECKPOINT, ITERS_NET_OUTPUT)\u001b[0m\n\u001b[1;32m    261\u001b[0m                     \u001b[0;31m# Update the discriminator\u001b[0m\u001b[0;34m\u001b[0m\u001b[0;34m\u001b[0m\u001b[0m\n\u001b[1;32m    262\u001b[0m                     _, dLoss = sess.run([trainer_d, d_loss],\n\u001b[0;32m--> 263\u001b[0;31m                                         feed_dict={random_input: train_noise, real_image: train_image, is_train: True})\n\u001b[0m\u001b[1;32m    264\u001b[0m \u001b[0;34m\u001b[0m\u001b[0m\n\u001b[1;32m    265\u001b[0m                 \u001b[0;31m# GENERATOR\u001b[0m\u001b[0;34m\u001b[0m\u001b[0;34m\u001b[0m\u001b[0m\n",
      "\u001b[0;32m/home/strider/anaconda3/lib/python3.5/site-packages/tensorflow/python/client/session.py\u001b[0m in \u001b[0;36mrun\u001b[0;34m(self, fetches, feed_dict, options, run_metadata)\u001b[0m\n\u001b[1;32m    893\u001b[0m     \u001b[0;32mtry\u001b[0m\u001b[0;34m:\u001b[0m\u001b[0;34m\u001b[0m\u001b[0m\n\u001b[1;32m    894\u001b[0m       result = self._run(None, fetches, feed_dict, options_ptr,\n\u001b[0;32m--> 895\u001b[0;31m                          run_metadata_ptr)\n\u001b[0m\u001b[1;32m    896\u001b[0m       \u001b[0;32mif\u001b[0m \u001b[0mrun_metadata\u001b[0m\u001b[0;34m:\u001b[0m\u001b[0;34m\u001b[0m\u001b[0m\n\u001b[1;32m    897\u001b[0m         \u001b[0mproto_data\u001b[0m \u001b[0;34m=\u001b[0m \u001b[0mtf_session\u001b[0m\u001b[0;34m.\u001b[0m\u001b[0mTF_GetBuffer\u001b[0m\u001b[0;34m(\u001b[0m\u001b[0mrun_metadata_ptr\u001b[0m\u001b[0;34m)\u001b[0m\u001b[0;34m\u001b[0m\u001b[0m\n",
      "\u001b[0;32m/home/strider/anaconda3/lib/python3.5/site-packages/tensorflow/python/client/session.py\u001b[0m in \u001b[0;36m_run\u001b[0;34m(self, handle, fetches, feed_dict, options, run_metadata)\u001b[0m\n\u001b[1;32m   1122\u001b[0m     \u001b[0;32mif\u001b[0m \u001b[0mfinal_fetches\u001b[0m \u001b[0;32mor\u001b[0m \u001b[0mfinal_targets\u001b[0m \u001b[0;32mor\u001b[0m \u001b[0;34m(\u001b[0m\u001b[0mhandle\u001b[0m \u001b[0;32mand\u001b[0m \u001b[0mfeed_dict_tensor\u001b[0m\u001b[0;34m)\u001b[0m\u001b[0;34m:\u001b[0m\u001b[0;34m\u001b[0m\u001b[0m\n\u001b[1;32m   1123\u001b[0m       results = self._do_run(handle, final_targets, final_fetches,\n\u001b[0;32m-> 1124\u001b[0;31m                              feed_dict_tensor, options, run_metadata)\n\u001b[0m\u001b[1;32m   1125\u001b[0m     \u001b[0;32melse\u001b[0m\u001b[0;34m:\u001b[0m\u001b[0;34m\u001b[0m\u001b[0m\n\u001b[1;32m   1126\u001b[0m       \u001b[0mresults\u001b[0m \u001b[0;34m=\u001b[0m \u001b[0;34m[\u001b[0m\u001b[0;34m]\u001b[0m\u001b[0;34m\u001b[0m\u001b[0m\n",
      "\u001b[0;32m/home/strider/anaconda3/lib/python3.5/site-packages/tensorflow/python/client/session.py\u001b[0m in \u001b[0;36m_do_run\u001b[0;34m(self, handle, target_list, fetch_list, feed_dict, options, run_metadata)\u001b[0m\n\u001b[1;32m   1319\u001b[0m     \u001b[0;32mif\u001b[0m \u001b[0mhandle\u001b[0m \u001b[0;32mis\u001b[0m \u001b[0;32mNone\u001b[0m\u001b[0;34m:\u001b[0m\u001b[0;34m\u001b[0m\u001b[0m\n\u001b[1;32m   1320\u001b[0m       return self._do_call(_run_fn, self._session, feeds, fetches, targets,\n\u001b[0;32m-> 1321\u001b[0;31m                            options, run_metadata)\n\u001b[0m\u001b[1;32m   1322\u001b[0m     \u001b[0;32melse\u001b[0m\u001b[0;34m:\u001b[0m\u001b[0;34m\u001b[0m\u001b[0m\n\u001b[1;32m   1323\u001b[0m       \u001b[0;32mreturn\u001b[0m \u001b[0mself\u001b[0m\u001b[0;34m.\u001b[0m\u001b[0m_do_call\u001b[0m\u001b[0;34m(\u001b[0m\u001b[0m_prun_fn\u001b[0m\u001b[0;34m,\u001b[0m \u001b[0mself\u001b[0m\u001b[0;34m.\u001b[0m\u001b[0m_session\u001b[0m\u001b[0;34m,\u001b[0m \u001b[0mhandle\u001b[0m\u001b[0;34m,\u001b[0m \u001b[0mfeeds\u001b[0m\u001b[0;34m,\u001b[0m \u001b[0mfetches\u001b[0m\u001b[0;34m)\u001b[0m\u001b[0;34m\u001b[0m\u001b[0m\n",
      "\u001b[0;32m/home/strider/anaconda3/lib/python3.5/site-packages/tensorflow/python/client/session.py\u001b[0m in \u001b[0;36m_do_call\u001b[0;34m(self, fn, *args)\u001b[0m\n\u001b[1;32m   1325\u001b[0m   \u001b[0;32mdef\u001b[0m \u001b[0m_do_call\u001b[0m\u001b[0;34m(\u001b[0m\u001b[0mself\u001b[0m\u001b[0;34m,\u001b[0m \u001b[0mfn\u001b[0m\u001b[0;34m,\u001b[0m \u001b[0;34m*\u001b[0m\u001b[0margs\u001b[0m\u001b[0;34m)\u001b[0m\u001b[0;34m:\u001b[0m\u001b[0;34m\u001b[0m\u001b[0m\n\u001b[1;32m   1326\u001b[0m     \u001b[0;32mtry\u001b[0m\u001b[0;34m:\u001b[0m\u001b[0;34m\u001b[0m\u001b[0m\n\u001b[0;32m-> 1327\u001b[0;31m       \u001b[0;32mreturn\u001b[0m \u001b[0mfn\u001b[0m\u001b[0;34m(\u001b[0m\u001b[0;34m*\u001b[0m\u001b[0margs\u001b[0m\u001b[0;34m)\u001b[0m\u001b[0;34m\u001b[0m\u001b[0m\n\u001b[0m\u001b[1;32m   1328\u001b[0m     \u001b[0;32mexcept\u001b[0m \u001b[0merrors\u001b[0m\u001b[0;34m.\u001b[0m\u001b[0mOpError\u001b[0m \u001b[0;32mas\u001b[0m \u001b[0me\u001b[0m\u001b[0;34m:\u001b[0m\u001b[0;34m\u001b[0m\u001b[0m\n\u001b[1;32m   1329\u001b[0m       \u001b[0mmessage\u001b[0m \u001b[0;34m=\u001b[0m \u001b[0mcompat\u001b[0m\u001b[0;34m.\u001b[0m\u001b[0mas_text\u001b[0m\u001b[0;34m(\u001b[0m\u001b[0me\u001b[0m\u001b[0;34m.\u001b[0m\u001b[0mmessage\u001b[0m\u001b[0;34m)\u001b[0m\u001b[0;34m\u001b[0m\u001b[0m\n",
      "\u001b[0;32m/home/strider/anaconda3/lib/python3.5/site-packages/tensorflow/python/client/session.py\u001b[0m in \u001b[0;36m_run_fn\u001b[0;34m(session, feed_dict, fetch_list, target_list, options, run_metadata)\u001b[0m\n\u001b[1;32m   1304\u001b[0m           return tf_session.TF_Run(session, options,\n\u001b[1;32m   1305\u001b[0m                                    \u001b[0mfeed_dict\u001b[0m\u001b[0;34m,\u001b[0m \u001b[0mfetch_list\u001b[0m\u001b[0;34m,\u001b[0m \u001b[0mtarget_list\u001b[0m\u001b[0;34m,\u001b[0m\u001b[0;34m\u001b[0m\u001b[0m\n\u001b[0;32m-> 1306\u001b[0;31m                                    status, run_metadata)\n\u001b[0m\u001b[1;32m   1307\u001b[0m \u001b[0;34m\u001b[0m\u001b[0m\n\u001b[1;32m   1308\u001b[0m     \u001b[0;32mdef\u001b[0m \u001b[0m_prun_fn\u001b[0m\u001b[0;34m(\u001b[0m\u001b[0msession\u001b[0m\u001b[0;34m,\u001b[0m \u001b[0mhandle\u001b[0m\u001b[0;34m,\u001b[0m \u001b[0mfeed_dict\u001b[0m\u001b[0;34m,\u001b[0m \u001b[0mfetch_list\u001b[0m\u001b[0;34m)\u001b[0m\u001b[0;34m:\u001b[0m\u001b[0;34m\u001b[0m\u001b[0m\n",
      "\u001b[0;31mKeyboardInterrupt\u001b[0m: "
     ]
    }
   ],
   "source": [
    "pokeGAN.train()"
   ]
  }
 ],
 "metadata": {
  "anaconda-cloud": {},
  "kernelspec": {
   "display_name": "Python [conda root]",
   "language": "python",
   "name": "conda-root-py"
  },
  "language_info": {
   "codemirror_mode": {
    "name": "ipython",
    "version": 3
   },
   "file_extension": ".py",
   "mimetype": "text/x-python",
   "name": "python",
   "nbconvert_exporter": "python",
   "pygments_lexer": "ipython3",
   "version": "3.5.2"
  },
  "varInspector": {
   "cols": {
    "lenName": 16,
    "lenType": 16,
    "lenVar": 40
   },
   "kernels_config": {
    "python": {
     "delete_cmd_postfix": "",
     "delete_cmd_prefix": "del ",
     "library": "var_list.py",
     "varRefreshCmd": "print(var_dic_list())"
    },
    "r": {
     "delete_cmd_postfix": ") ",
     "delete_cmd_prefix": "rm(",
     "library": "var_list.r",
     "varRefreshCmd": "cat(var_dic_list()) "
    }
   },
   "types_to_exclude": [
    "module",
    "function",
    "builtin_function_or_method",
    "instance",
    "_Feature"
   ],
   "window_display": false
  },
  "widgets": {
   "state": {
    "039f672b470444b493a58486c607bc66": {
     "views": [
      {
       "cell_index": 4
      }
     ]
    },
    "97a847d912264e04a885d7b0965adfb2": {
     "views": [
      {
       "cell_index": 4
      }
     ]
    }
   },
   "version": "1.2.0"
  }
 },
 "nbformat": 4,
 "nbformat_minor": 1
}
